{
 "cells": [
  {
   "cell_type": "code",
   "execution_count": 1,
   "metadata": {},
   "outputs": [],
   "source": [
    "from transformers import pipeline\n",
    "from PIL import Image\n",
    "import requests\n",
    "import cv2\n",
    "import os"
   ]
  },
  {
   "cell_type": "code",
   "execution_count": 2,
   "metadata": {},
   "outputs": [
    {
     "name": "stderr",
     "output_type": "stream",
     "text": [
      "Could not find image processor class in the image processor config or the model config. Loading based on pattern matching with the model's feature extractor configuration. Please open a PR/issue to update `preprocessor_config.json` to use `image_processor_type` instead of `feature_extractor_type`. This warning will be removed in v4.40.\n"
     ]
    }
   ],
   "source": [
    "checkpoint = \"openai/clip-vit-large-patch14\"\n",
    "detector = pipeline(model=checkpoint, task=\"zero-shot-image-classification\")"
   ]
  },
  {
   "cell_type": "code",
   "execution_count": 3,
   "metadata": {},
   "outputs": [],
   "source": [
    "\n",
    "# url = \"https://d32m1btok6bzqh.cloudfront.net/wp-content/uploads/2023/08/ForestFires.jpg\"\n",
    "# url2 = \"https://www.dpreview.com/files/p/articles/1345517241/NASA_3.jpeg\"\n",
    "# url3 = \"https://images.ctfassets.net/mrbo2ykgx5lt/42348/a048a3be3147e574fd11c97b9067506b/frontiers-in-remote-sensing-global-forest-fires-map.png?&w=1200&h=630&fm=jpg&f=center\"\n",
    "# url4 = \"https://encrypted-tbn0.gstatic.com/images?q=tbn:ANd9GcSr3gdHB55HOHyjVfM4cjo0nDLQXvYsNMf73XQ_79IQqw&s\"\n",
    "# url5 = \"https://www.telegraph.co.uk/content/dam/news/2019/07/27/TELEMMGLPICT000203626130_trans_NvBQzQNjv4Bq4lB4GFcd2ffyksCJoOxtkU3FLar9-NbgRNEoFPugGC0.jpeg?imwidth=480\"\n",
    "# fire_camera_image = Image.open(requests.get(url, stream=True).raw)\n",
    "# fire_satillite_image = Image.open(requests.get(url2, stream=True).raw)\n",
    "# fire_satillite_image2 = Image.open(requests.get(url5, stream=True).raw)\n",
    "# Smoke_satillite_image = Image.open(requests.get(url3, stream=True).raw)\n",
    "# Smoke_satillite_image2 = Image.open(requests.get(url4, stream=True).raw)\n",
    "\n",
    "\n",
    "# fire_camera_image.show()\n",
    "# fire_satillite_image.show()\n",
    "# Smoke_satillite_image.show()\n",
    "# Smoke_satillite_image2.show()"
   ]
  },
  {
   "cell_type": "code",
   "execution_count": 4,
   "metadata": {},
   "outputs": [],
   "source": [
    "# predictions = detector(Smoke_satillite_image2, candidate_labels=[\"Forest Fire/Smoke\"  ,\"No Forest Fire/Smoke\"])\n",
    "# predictions"
   ]
  },
  {
   "cell_type": "code",
   "execution_count": 5,
   "metadata": {},
   "outputs": [],
   "source": [
    "# predictions[0]['label']"
   ]
  },
  {
   "cell_type": "code",
   "execution_count": 6,
   "metadata": {},
   "outputs": [],
   "source": [
    "image_folder = 'D05_images'\n",
    "fire_directory = os.listdir(image_folder)\n",
    "# No_fire_directory = os.listdir('nofire')\n",
    "# No_fire_images = []\n",
    "fire_images = []\n",
    "\n",
    "for each in fire_directory:\n",
    "    if each == \".DS_Store\":\n",
    "        pass\n",
    "    else:\n",
    "        fire_images.append(Image.open(f\"{image_folder}/{each}\"))\n",
    "\n",
    "# for each in No_fire_directory:\n",
    "#     No_fire_images.append(Image.open(f\"nofire/{each}\"))\n"
   ]
  },
  {
   "cell_type": "markdown",
   "metadata": {},
   "source": [
    "**Fire Predicton**"
   ]
  },
  {
   "cell_type": "code",
   "execution_count": 10,
   "metadata": {},
   "outputs": [],
   "source": [
    "fire_prediction = []\n",
    "# No_fire_prediction = []\n",
    "\n",
    "for fire_image in  fire_images:\n",
    "    prediction = detector(fire_image, candidate_labels=[\"Forest Fire/Smoke\"  ,\"No Forest Fire/Smoke\"])\n",
    "    fire_prediction.append(prediction[0]['label'])\n",
    "\n",
    "# for No_fire_image in  No_fire_images:\n",
    "#     prediction = detector(No_fire_image, candidate_labels=[\"Forest Fire/Smoke\"  ,\"No Forest Fire/Smoke\"])\n",
    "#     No_fire_prediction.append(prediction[0]['label'])"
   ]
  },
  {
   "cell_type": "code",
   "execution_count": 11,
   "metadata": {},
   "outputs": [
    {
     "name": "stdout",
     "output_type": "stream",
     "text": [
      "Fire detected:  52\n"
     ]
    }
   ],
   "source": [
    "fire_accuracy = fire_prediction.count('Forest Fire/Smoke')\n",
    "# no_fire_accuracy = No_fire_prediction.count('No Forest Fire/Smoke')/190\n",
    "# total = (fire_accuracy+no_fire_accuracy)/2\n",
    "\n",
    "print(\"Fire detected: \" , fire_accuracy)\n",
    "# print(\"Total Accuracy: \" , total )"
   ]
  },
  {
   "cell_type": "code",
   "execution_count": 9,
   "metadata": {},
   "outputs": [],
   "source": [
    "# testing_images = []\n",
    "# for i in range(10):\n",
    "#     testing_images.append(Image.open(f\"frame_0{i}_delay-0.5s.jpg\"))\n",
    "\n",
    "# testing_prediction = []\n",
    "# for test_image in  testing_images:\n",
    "#     prediction = detector(test_image, candidate_labels=[\"Forest Fire/Smoke\"  ,\"No Forest Fire/Smoke\"])\n",
    "#     testing_prediction.append(prediction[0]['label'])"
   ]
  }
 ],
 "metadata": {
  "kernelspec": {
   "display_name": "Python 3",
   "language": "python",
   "name": "python3"
  },
  "language_info": {
   "codemirror_mode": {
    "name": "ipython",
    "version": 3
   },
   "file_extension": ".py",
   "mimetype": "text/x-python",
   "name": "python",
   "nbconvert_exporter": "python",
   "pygments_lexer": "ipython3",
   "version": "3.10.4"
  }
 },
 "nbformat": 4,
 "nbformat_minor": 2
}
